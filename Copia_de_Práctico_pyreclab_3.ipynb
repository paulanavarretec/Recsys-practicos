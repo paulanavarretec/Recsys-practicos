{
  "nbformat": 4,
  "nbformat_minor": 0,
  "metadata": {
    "colab": {
      "name": "Copia_de_Práctico_pyreclab_3.ipynb",
      "version": "0.3.2",
      "provenance": [],
      "collapsed_sections": [],
      "include_colab_link": true
    },
    "kernelspec": {
      "name": "python3",
      "display_name": "Python 3"
    }
  },
  "cells": [
    {
      "cell_type": "markdown",
      "metadata": {
        "id": "view-in-github",
        "colab_type": "text"
      },
      "source": [
        "[View in Colaboratory](https://colab.research.google.com/github/paulanavarretec/Recsys-practicos/blob/master/Copia_de_Pra%CC%81ctico_pyreclab_3.ipynb)"
      ]
    },
    {
      "metadata": {
        "id": "Ug0ZdoCQ8v_-",
        "colab_type": "text"
      },
      "cell_type": "markdown",
      "source": [
        "# Ayudantía 3 - Sistemas Recomendadores: Pyreclab"
      ]
    },
    {
      "metadata": {
        "id": "8VO7sT3xSI9G",
        "colab_type": "text"
      },
      "cell_type": "markdown",
      "source": [
        "**Nombre(s):** Paula Navarrete - Astrid San Martín"
      ]
    },
    {
      "metadata": {
        "id": "QYb_yqvJ9Azs",
        "colab_type": "text"
      },
      "cell_type": "markdown",
      "source": [
        "## Setup"
      ]
    },
    {
      "metadata": {
        "id": "uDf4Fq2sVXoe",
        "colab_type": "text"
      },
      "cell_type": "markdown",
      "source": [
        "**Paso 1:** Descarga de archivos:\n",
        "\n",
        "*   `dictionary.p`\n",
        "*   `dictionary-stemm.p`\n",
        "*  `tfidf_model.p`\n",
        "*  `tfidf_model-stemm.p`"
      ]
    },
    {
      "metadata": {
        "id": "nAU2KqtbO-H0",
        "colab_type": "code",
        "colab": {
          "base_uri": "https://localhost:8080/",
          "height": 167
        },
        "outputId": "6e87b55c-d87f-4a21-a94f-8b87e47af1a4"
      },
      "cell_type": "code",
      "source": [
        "# Descargue los archivos ejecutando este comando\n",
        "!curl -L -o 'resources.tar.gz' \"https://drive.google.com/uc?export=download&id=1_Vp-veFfqCFkaEs-qVx99DYrAexBfq8w\"\n",
        "\n",
        "# Descomprima el archivo\n",
        "!tar -xvf resources.tar.gz"
      ],
      "execution_count": 27,
      "outputs": [
        {
          "output_type": "stream",
          "text": [
            "  % Total    % Received % Xferd  Average Speed   Time    Time     Time  Current\r\n",
            "                                 Dload  Upload   Total   Spent    Left  Speed\n",
            "100   388    0   388    0     0    388      0 --:--:--  0:00:01 --:--:--   308\n",
            "100 1754k  100 1754k    0     0  1754k      0  0:00:01  0:00:01 --:--:-- 1754k\n",
            "resources/\n",
            "resources/dictionary-stemm.p\n",
            "resources/dictionary.p\n",
            "resources/tfidf_model-stemm.p\n",
            "resources/tfidf_model.p\n"
          ],
          "name": "stdout"
        }
      ]
    },
    {
      "metadata": {
        "id": "LdcX_Hv8VtMC",
        "colab_type": "text"
      },
      "cell_type": "markdown",
      "source": [
        "**Paso 1.5:** Descarga del dataset:"
      ]
    },
    {
      "metadata": {
        "id": "Oe-uwhdrQflY",
        "colab_type": "code",
        "colab": {
          "base_uri": "https://localhost:8080/",
          "height": 117
        },
        "outputId": "4581375e-f31d-44ba-cdc7-891a0372e072"
      },
      "cell_type": "code",
      "source": [
        "# Puede descargar el dataset ejecutando el siguiente comando\n",
        "!curl -L -o 'dataset.tar.gz' \"https://drive.google.com/uc?export=download&id=1by4BZRPeUSnQRbwJWc-OKpIF6YBpCa7s\"\n",
        "\n",
        "# Y descomprimirlo con\n",
        "!tar -xvf dataset.tar.gz"
      ],
      "execution_count": 28,
      "outputs": [
        {
          "output_type": "stream",
          "text": [
            "  % Total    % Received % Xferd  Average Speed   Time    Time     Time  Current\r\n",
            "                                 Dload  Upload   Total   Spent    Left  Speed\n",
            "100   388    0   388    0     0    129      0 --:--:--  0:00:03 --:--:--   124\n",
            "100 3117k    0 3117k    0     0  1039k      0 --:--:--  0:00:03 --:--:-- 1039k\n",
            "./._corpus1.csv\n",
            "corpus1.csv\n"
          ],
          "name": "stdout"
        }
      ]
    },
    {
      "metadata": {
        "id": "C38vKnWX9CFM",
        "colab_type": "text"
      },
      "cell_type": "markdown",
      "source": [
        "**Paso 2:** Para este práctico es necesario instalar las siguentes dependencias:"
      ]
    },
    {
      "metadata": {
        "id": "qrQao0AE9ZgV",
        "colab_type": "code",
        "colab": {
          "base_uri": "https://localhost:8080/",
          "height": 505
        },
        "outputId": "e8a5bef1-6b06-4dbc-98a5-910474cf4132"
      },
      "cell_type": "code",
      "source": [
        "!pip install nltk\n",
        "!pip install sklearn\n",
        "!pip install gensim\n",
        "!pip install pandas\n",
        "!pip install numpy"
      ],
      "execution_count": 29,
      "outputs": [
        {
          "output_type": "stream",
          "text": [
            "Requirement already satisfied: nltk in /usr/local/lib/python3.6/dist-packages (3.2.5)\r\n",
            "Requirement already satisfied: six in /usr/local/lib/python3.6/dist-packages (from nltk) (1.11.0)\n",
            "Requirement already satisfied: sklearn in /usr/local/lib/python3.6/dist-packages (0.0)\n",
            "Requirement already satisfied: scikit-learn in /usr/local/lib/python3.6/dist-packages (from sklearn) (0.19.2)\n",
            "Requirement already satisfied: gensim in /usr/local/lib/python3.6/dist-packages (3.5.0)\n",
            "Requirement already satisfied: numpy>=1.11.3 in /usr/local/lib/python3.6/dist-packages (from gensim) (1.14.5)\n",
            "Requirement already satisfied: six>=1.5.0 in /usr/local/lib/python3.6/dist-packages (from gensim) (1.11.0)\n",
            "Requirement already satisfied: smart-open>=1.2.1 in /usr/local/lib/python3.6/dist-packages (from gensim) (1.6.0)\n",
            "Requirement already satisfied: scipy>=0.18.1 in /usr/local/lib/python3.6/dist-packages (from gensim) (0.19.1)\n",
            "Requirement already satisfied: bz2file in /usr/local/lib/python3.6/dist-packages (from smart-open>=1.2.1->gensim) (0.98)\n",
            "Requirement already satisfied: boto>=2.32 in /usr/local/lib/python3.6/dist-packages (from smart-open>=1.2.1->gensim) (2.49.0)\n",
            "Requirement already satisfied: requests in /usr/local/lib/python3.6/dist-packages (from smart-open>=1.2.1->gensim) (2.18.4)\n",
            "Requirement already satisfied: boto3 in /usr/local/lib/python3.6/dist-packages (from smart-open>=1.2.1->gensim) (1.8.6)\n",
            "Requirement already satisfied: idna<2.7,>=2.5 in /usr/local/lib/python3.6/dist-packages (from requests->smart-open>=1.2.1->gensim) (2.6)\n",
            "Requirement already satisfied: certifi>=2017.4.17 in /usr/local/lib/python3.6/dist-packages (from requests->smart-open>=1.2.1->gensim) (2018.8.24)\n",
            "Requirement already satisfied: urllib3<1.23,>=1.21.1 in /usr/local/lib/python3.6/dist-packages (from requests->smart-open>=1.2.1->gensim) (1.22)\n",
            "Requirement already satisfied: chardet<3.1.0,>=3.0.2 in /usr/local/lib/python3.6/dist-packages (from requests->smart-open>=1.2.1->gensim) (3.0.4)\n",
            "Requirement already satisfied: botocore<1.12.0,>=1.11.6 in /usr/local/lib/python3.6/dist-packages (from boto3->smart-open>=1.2.1->gensim) (1.11.6)\n",
            "Requirement already satisfied: jmespath<1.0.0,>=0.7.1 in /usr/local/lib/python3.6/dist-packages (from boto3->smart-open>=1.2.1->gensim) (0.9.3)\n",
            "Requirement already satisfied: s3transfer<0.2.0,>=0.1.10 in /usr/local/lib/python3.6/dist-packages (from boto3->smart-open>=1.2.1->gensim) (0.1.13)\n",
            "Requirement already satisfied: python-dateutil<3.0.0,>=2.1; python_version >= \"2.7\" in /usr/local/lib/python3.6/dist-packages (from botocore<1.12.0,>=1.11.6->boto3->smart-open>=1.2.1->gensim) (2.5.3)\n",
            "Requirement already satisfied: docutils>=0.10 in /usr/local/lib/python3.6/dist-packages (from botocore<1.12.0,>=1.11.6->boto3->smart-open>=1.2.1->gensim) (0.14)\n",
            "Requirement already satisfied: pandas in /usr/local/lib/python3.6/dist-packages (0.22.0)\n",
            "Requirement already satisfied: numpy>=1.9.0 in /usr/local/lib/python3.6/dist-packages (from pandas) (1.14.5)\n",
            "Requirement already satisfied: python-dateutil>=2 in /usr/local/lib/python3.6/dist-packages (from pandas) (2.5.3)\n",
            "Requirement already satisfied: pytz>=2011k in /usr/local/lib/python3.6/dist-packages (from pandas) (2018.5)\n",
            "Requirement already satisfied: six>=1.5 in /usr/local/lib/python3.6/dist-packages (from python-dateutil>=2->pandas) (1.11.0)\n",
            "Requirement already satisfied: numpy in /usr/local/lib/python3.6/dist-packages (1.14.5)\n"
          ],
          "name": "stdout"
        }
      ]
    },
    {
      "metadata": {
        "id": "gj38t3yY9dMW",
        "colab_type": "code",
        "colab": {}
      },
      "cell_type": "code",
      "source": [
        "import os\n",
        "import nltk\n",
        "import sklearn\n",
        "import gensim\n",
        "import string\n",
        "import pandas as pd\n",
        "import numpy as np\n",
        "from scipy.sparse import csr_matrix\n",
        "from collections import Counter\n",
        "from nltk.corpus import stopwords\n",
        "from nltk.stem.porter import PorterStemmer \n",
        "from gensim import corpora, models, similarities\n",
        "from sklearn.neighbors import NearestNeighbors"
      ],
      "execution_count": 0,
      "outputs": []
    },
    {
      "metadata": {
        "id": "PUYnjZ1yOY-A",
        "colab_type": "text"
      },
      "cell_type": "markdown",
      "source": [
        "## Preprocesamiento de datos"
      ]
    },
    {
      "metadata": {
        "id": "me-LXrP2Ocjc",
        "colab_type": "text"
      },
      "cell_type": "markdown",
      "source": [
        "Lo primero es descargar las librerías de NLTK necesarias:"
      ]
    },
    {
      "metadata": {
        "id": "1Ru8N7mZ9exU",
        "colab_type": "code",
        "colab": {
          "base_uri": "https://localhost:8080/",
          "height": 67
        },
        "outputId": "08fe3ce4-99f7-45dd-c8ca-de06d92afaab"
      },
      "cell_type": "code",
      "source": [
        "# Download corpora\n",
        "nltk.download('punkt')"
      ],
      "execution_count": 31,
      "outputs": [
        {
          "output_type": "stream",
          "text": [
            "[nltk_data] Downloading package punkt to /root/nltk_data...\n",
            "[nltk_data]   Package punkt is already up-to-date!\n"
          ],
          "name": "stdout"
        },
        {
          "output_type": "execute_result",
          "data": {
            "text/plain": [
              "True"
            ]
          },
          "metadata": {
            "tags": []
          },
          "execution_count": 31
        }
      ]
    },
    {
      "metadata": {
        "id": "zUzN9tQTQf2k",
        "colab_type": "text"
      },
      "cell_type": "markdown",
      "source": [
        "Para comenzar cargaremos el set de datos en un *dataframe* de Pandas, e imprimimos los 5 primeros registros para visualizar la estructura de los datos."
      ]
    },
    {
      "metadata": {
        "id": "yk2PJqkW92Ha",
        "colab_type": "code",
        "colab": {
          "base_uri": "https://localhost:8080/",
          "height": 196
        },
        "outputId": "d07f6f34-18ec-4fd9-ec36-2db9ca37eb19"
      },
      "cell_type": "code",
      "source": [
        "corpus_df = pd.read_csv('./corpus1.csv', sep='\\t', header=None, encoding='latin')\n",
        "corpus_df.columns = ['id', 'title', 'abstract']\n",
        "corpus_df = corpus_df[['id', 'title', 'abstract']]\n",
        "corpus_df[:5]"
      ],
      "execution_count": 32,
      "outputs": [
        {
          "output_type": "execute_result",
          "data": {
            "text/html": [
              "<div>\n",
              "<style scoped>\n",
              "    .dataframe tbody tr th:only-of-type {\n",
              "        vertical-align: middle;\n",
              "    }\n",
              "\n",
              "    .dataframe tbody tr th {\n",
              "        vertical-align: top;\n",
              "    }\n",
              "\n",
              "    .dataframe thead th {\n",
              "        text-align: right;\n",
              "    }\n",
              "</style>\n",
              "<table border=\"1\" class=\"dataframe\">\n",
              "  <thead>\n",
              "    <tr style=\"text-align: right;\">\n",
              "      <th></th>\n",
              "      <th>id</th>\n",
              "      <th>title</th>\n",
              "      <th>abstract</th>\n",
              "    </tr>\n",
              "  </thead>\n",
              "  <tbody>\n",
              "    <tr>\n",
              "      <th>0</th>\n",
              "      <td>100002</td>\n",
              "      <td>Nonlinear Shape Statistics in Mumford{Shah Bas...</td>\n",
              "      <td>We present a variational integration of nonlin...</td>\n",
              "    </tr>\n",
              "    <tr>\n",
              "      <th>1</th>\n",
              "      <td>100007</td>\n",
              "      <td>On the Complexity of Equilibria</td>\n",
              "      <td>We prove complexity, approximability, and inap...</td>\n",
              "    </tr>\n",
              "    <tr>\n",
              "      <th>2</th>\n",
              "      <td>100008</td>\n",
              "      <td>On QoS-Aware Publish-Subscribe</td>\n",
              "      <td>This position paper addresses the issue of sup...</td>\n",
              "    </tr>\n",
              "    <tr>\n",
              "      <th>3</th>\n",
              "      <td>10001</td>\n",
              "      <td>Checking Mergeable Priority Queues</td>\n",
              "      <td>We present an efficient algorithm which can ch...</td>\n",
              "    </tr>\n",
              "    <tr>\n",
              "      <th>4</th>\n",
              "      <td>100012</td>\n",
              "      <td>Mobile Code Security by Java Bytecode Instrume...</td>\n",
              "      <td>Mobile code provides significant opportunities...</td>\n",
              "    </tr>\n",
              "  </tbody>\n",
              "</table>\n",
              "</div>"
            ],
            "text/plain": [
              "       id                                              title  \\\n",
              "0  100002  Nonlinear Shape Statistics in Mumford{Shah Bas...   \n",
              "1  100007                    On the Complexity of Equilibria   \n",
              "2  100008                     On QoS-Aware Publish-Subscribe   \n",
              "3   10001                 Checking Mergeable Priority Queues   \n",
              "4  100012  Mobile Code Security by Java Bytecode Instrume...   \n",
              "\n",
              "                                            abstract  \n",
              "0  We present a variational integration of nonlin...  \n",
              "1  We prove complexity, approximability, and inap...  \n",
              "2  This position paper addresses the issue of sup...  \n",
              "3  We present an efficient algorithm which can ch...  \n",
              "4  Mobile code provides significant opportunities...  "
            ]
          },
          "metadata": {
            "tags": []
          },
          "execution_count": 32
        }
      ]
    },
    {
      "metadata": {
        "id": "2c2NWVPnQmFU",
        "colab_type": "text"
      },
      "cell_type": "markdown",
      "source": [
        "Lo siguiente es implementar una función que transforme texto no estructurado a una lista de tokens procesados."
      ]
    },
    {
      "metadata": {
        "id": "PerFw5VF-kjf",
        "colab_type": "code",
        "colab": {
          "base_uri": "https://localhost:8080/",
          "height": 33
        },
        "outputId": "9e5696d0-9ca2-4eae-b819-534f5edf5b93"
      },
      "cell_type": "code",
      "source": [
        "stemm = False\n",
        "stemmer = PorterStemmer()\n",
        "\n",
        "def get_tokens(text):\n",
        "    lowers = text.lower()\n",
        "    no_punctuation = lowers.translate({ord(c): None for c in string.punctuation})\n",
        "    tokens = nltk.word_tokenize(no_punctuation)\n",
        "    if stemm:\n",
        "        tokens = map(stemmer.stem, tokens)\n",
        "        \n",
        "    return tokens\n",
        "\n",
        "get_tokens(\"I'm a super student for recommender systems!\")"
      ],
      "execution_count": 33,
      "outputs": [
        {
          "output_type": "execute_result",
          "data": {
            "text/plain": [
              "['im', 'a', 'super', 'student', 'for', 'recommender', 'systems']"
            ]
          },
          "metadata": {
            "tags": []
          },
          "execution_count": 33
        }
      ]
    },
    {
      "metadata": {
        "id": "3csGVr5GQwnR",
        "colab_type": "text"
      },
      "cell_type": "markdown",
      "source": [
        "**Pregunta:** Explique en sus palabras qué hace la función `get_tokens()`.\n",
        "\n",
        "**Respuesta:**procesa el texto llevando todas las letras a minúsculas primero, para luego sacar los signos de puntuación (translate). Finalmente crea un arreglo con una palabra en cada posición. sin retirar las \"stop words\". \n",
        "\n"
      ]
    },
    {
      "metadata": {
        "id": "5BuNyD3zRUrP",
        "colab_type": "text"
      },
      "cell_type": "markdown",
      "source": [
        "Ahora se tiene que generar un diccionario con todas las palabras del *corpus*.\n",
        "\n",
        "Se recomienda revisar la documentación de gensim y leer cómo usar los diccionarios: [corpora.dictionary](https://radimrehurek.com/gensim/corpora/dictionary.html)"
      ]
    },
    {
      "metadata": {
        "id": "HRY9VYwk__HP",
        "colab_type": "code",
        "colab": {
          "base_uri": "https://localhost:8080/",
          "height": 196
        },
        "outputId": "037585d8-e8b4-471a-fb13-72db87908369"
      },
      "cell_type": "code",
      "source": [
        "dict_file = './resources/dictionary-stemm.p' if stemm else './resources/dictionary.p'\n",
        "if os.path.isfile(dict_file):\n",
        "    dictionary = corpora.dictionary.Dictionary().load(dict_file)\n",
        "else:\n",
        "    dictionary = corpora.dictionary.Dictionary(documents=corpus_df.tokenised_abstract.tolist())\n",
        "    dictionary.save(dict_file)\n",
        "    \n",
        "corpus_df['tokenized_abstract'] = corpus_df.abstract.map(get_tokens)\n",
        "corpus_df[:5]"
      ],
      "execution_count": 34,
      "outputs": [
        {
          "output_type": "execute_result",
          "data": {
            "text/html": [
              "<div>\n",
              "<style scoped>\n",
              "    .dataframe tbody tr th:only-of-type {\n",
              "        vertical-align: middle;\n",
              "    }\n",
              "\n",
              "    .dataframe tbody tr th {\n",
              "        vertical-align: top;\n",
              "    }\n",
              "\n",
              "    .dataframe thead th {\n",
              "        text-align: right;\n",
              "    }\n",
              "</style>\n",
              "<table border=\"1\" class=\"dataframe\">\n",
              "  <thead>\n",
              "    <tr style=\"text-align: right;\">\n",
              "      <th></th>\n",
              "      <th>id</th>\n",
              "      <th>title</th>\n",
              "      <th>abstract</th>\n",
              "      <th>tokenized_abstract</th>\n",
              "    </tr>\n",
              "  </thead>\n",
              "  <tbody>\n",
              "    <tr>\n",
              "      <th>0</th>\n",
              "      <td>100002</td>\n",
              "      <td>Nonlinear Shape Statistics in Mumford{Shah Bas...</td>\n",
              "      <td>We present a variational integration of nonlin...</td>\n",
              "      <td>[we, present, a, variational, integration, of,...</td>\n",
              "    </tr>\n",
              "    <tr>\n",
              "      <th>1</th>\n",
              "      <td>100007</td>\n",
              "      <td>On the Complexity of Equilibria</td>\n",
              "      <td>We prove complexity, approximability, and inap...</td>\n",
              "      <td>[we, prove, complexity, approximability, and, ...</td>\n",
              "    </tr>\n",
              "    <tr>\n",
              "      <th>2</th>\n",
              "      <td>100008</td>\n",
              "      <td>On QoS-Aware Publish-Subscribe</td>\n",
              "      <td>This position paper addresses the issue of sup...</td>\n",
              "      <td>[this, position, paper, addresses, the, issue,...</td>\n",
              "    </tr>\n",
              "    <tr>\n",
              "      <th>3</th>\n",
              "      <td>10001</td>\n",
              "      <td>Checking Mergeable Priority Queues</td>\n",
              "      <td>We present an efficient algorithm which can ch...</td>\n",
              "      <td>[we, present, an, efficient, algorithm, which,...</td>\n",
              "    </tr>\n",
              "    <tr>\n",
              "      <th>4</th>\n",
              "      <td>100012</td>\n",
              "      <td>Mobile Code Security by Java Bytecode Instrume...</td>\n",
              "      <td>Mobile code provides significant opportunities...</td>\n",
              "      <td>[mobile, code, provides, significant, opportun...</td>\n",
              "    </tr>\n",
              "  </tbody>\n",
              "</table>\n",
              "</div>"
            ],
            "text/plain": [
              "       id                                              title  \\\n",
              "0  100002  Nonlinear Shape Statistics in Mumford{Shah Bas...   \n",
              "1  100007                    On the Complexity of Equilibria   \n",
              "2  100008                     On QoS-Aware Publish-Subscribe   \n",
              "3   10001                 Checking Mergeable Priority Queues   \n",
              "4  100012  Mobile Code Security by Java Bytecode Instrume...   \n",
              "\n",
              "                                            abstract  \\\n",
              "0  We present a variational integration of nonlin...   \n",
              "1  We prove complexity, approximability, and inap...   \n",
              "2  This position paper addresses the issue of sup...   \n",
              "3  We present an efficient algorithm which can ch...   \n",
              "4  Mobile code provides significant opportunities...   \n",
              "\n",
              "                                  tokenized_abstract  \n",
              "0  [we, present, a, variational, integration, of,...  \n",
              "1  [we, prove, complexity, approximability, and, ...  \n",
              "2  [this, position, paper, addresses, the, issue,...  \n",
              "3  [we, present, an, efficient, algorithm, which,...  \n",
              "4  [mobile, code, provides, significant, opportun...  "
            ]
          },
          "metadata": {
            "tags": []
          },
          "execution_count": 34
        }
      ]
    },
    {
      "metadata": {
        "id": "xPrsuu7jX5KK",
        "colab_type": "code",
        "colab": {
          "base_uri": "https://localhost:8080/",
          "height": 33
        },
        "outputId": "5f8273a1-bef7-40a4-9893-48e0b6eaa6cc"
      },
      "cell_type": "code",
      "source": [
        "print(corpus_df['tokenized_abstract'][0][0], corpus_df['tokenized_abstract'][0][1],'...',corpus_df['tokenized_abstract'][0][len(corpus_df['tokenized_abstract'][0])-1])"
      ],
      "execution_count": 35,
      "outputs": [
        {
          "output_type": "stream",
          "text": [
            "we present ... framework\n"
          ],
          "name": "stdout"
        }
      ]
    },
    {
      "metadata": {
        "id": "BB7mwxklRxs_",
        "colab_type": "text"
      },
      "cell_type": "markdown",
      "source": [
        "**Pregunta:** Explique a qué corresponde la columna `tokenised_abstract` del dataframe.\n",
        "\n",
        "**Respuesta:** La columna contiene el vector con las palabras después de pasar el abstract por la función *get_tokens*, es decir el abstract en un arreglo, con cada palabra de el en una posición consecutiva, pasada a minúsculas, incluyendo las stopwords.\n"
      ]
    },
    {
      "metadata": {
        "id": "M6QriWJKAMZn",
        "colab_type": "code",
        "colab": {
          "base_uri": "https://localhost:8080/",
          "height": 196
        },
        "outputId": "71a48cc7-64c0-4b9e-c827-6ca7ea0d77b1"
      },
      "cell_type": "code",
      "source": [
        "corpus_df['bow'] = corpus_df.tokenized_abstract.map(dictionary.doc2bow)\n",
        "del corpus_df['tokenized_abstract']\n",
        "corpus = corpus_df['bow'].tolist()\n",
        "corpus_df[:5]"
      ],
      "execution_count": 36,
      "outputs": [
        {
          "output_type": "execute_result",
          "data": {
            "text/html": [
              "<div>\n",
              "<style scoped>\n",
              "    .dataframe tbody tr th:only-of-type {\n",
              "        vertical-align: middle;\n",
              "    }\n",
              "\n",
              "    .dataframe tbody tr th {\n",
              "        vertical-align: top;\n",
              "    }\n",
              "\n",
              "    .dataframe thead th {\n",
              "        text-align: right;\n",
              "    }\n",
              "</style>\n",
              "<table border=\"1\" class=\"dataframe\">\n",
              "  <thead>\n",
              "    <tr style=\"text-align: right;\">\n",
              "      <th></th>\n",
              "      <th>id</th>\n",
              "      <th>title</th>\n",
              "      <th>abstract</th>\n",
              "      <th>bow</th>\n",
              "    </tr>\n",
              "  </thead>\n",
              "  <tbody>\n",
              "    <tr>\n",
              "      <th>0</th>\n",
              "      <td>100002</td>\n",
              "      <td>Nonlinear Shape Statistics in Mumford{Shah Bas...</td>\n",
              "      <td>We present a variational integration of nonlin...</td>\n",
              "      <td>[(0, 1), (1, 1), (3, 1), (4, 1), (5, 1), (6, 1...</td>\n",
              "    </tr>\n",
              "    <tr>\n",
              "      <th>1</th>\n",
              "      <td>100007</td>\n",
              "      <td>On the Complexity of Equilibria</td>\n",
              "      <td>We prove complexity, approximability, and inap...</td>\n",
              "      <td>[(4, 5), (7, 2), (8, 1), (10, 1), (30, 3), (35...</td>\n",
              "    </tr>\n",
              "    <tr>\n",
              "      <th>2</th>\n",
              "      <td>100008</td>\n",
              "      <td>On QoS-Aware Publish-Subscribe</td>\n",
              "      <td>This position paper addresses the issue of sup...</td>\n",
              "      <td>[(1, 1), (4, 6), (7, 1), (16, 1), (22, 1), (27...</td>\n",
              "    </tr>\n",
              "    <tr>\n",
              "      <th>3</th>\n",
              "      <td>10001</td>\n",
              "      <td>Checking Mergeable Priority Queues</td>\n",
              "      <td>We present an efficient algorithm which can ch...</td>\n",
              "      <td>[(4, 7), (7, 2), (8, 1), (10, 1), (16, 1), (17...</td>\n",
              "    </tr>\n",
              "    <tr>\n",
              "      <th>4</th>\n",
              "      <td>100012</td>\n",
              "      <td>Mobile Code Security by Java Bytecode Instrume...</td>\n",
              "      <td>Mobile code provides significant opportunities...</td>\n",
              "      <td>[(4, 4), (5, 1), (7, 1), (10, 2), (16, 5), (22...</td>\n",
              "    </tr>\n",
              "  </tbody>\n",
              "</table>\n",
              "</div>"
            ],
            "text/plain": [
              "       id                                              title  \\\n",
              "0  100002  Nonlinear Shape Statistics in Mumford{Shah Bas...   \n",
              "1  100007                    On the Complexity of Equilibria   \n",
              "2  100008                     On QoS-Aware Publish-Subscribe   \n",
              "3   10001                 Checking Mergeable Priority Queues   \n",
              "4  100012  Mobile Code Security by Java Bytecode Instrume...   \n",
              "\n",
              "                                            abstract  \\\n",
              "0  We present a variational integration of nonlin...   \n",
              "1  We prove complexity, approximability, and inap...   \n",
              "2  This position paper addresses the issue of sup...   \n",
              "3  We present an efficient algorithm which can ch...   \n",
              "4  Mobile code provides significant opportunities...   \n",
              "\n",
              "                                                 bow  \n",
              "0  [(0, 1), (1, 1), (3, 1), (4, 1), (5, 1), (6, 1...  \n",
              "1  [(4, 5), (7, 2), (8, 1), (10, 1), (30, 3), (35...  \n",
              "2  [(1, 1), (4, 6), (7, 1), (16, 1), (22, 1), (27...  \n",
              "3  [(4, 7), (7, 2), (8, 1), (10, 1), (16, 1), (17...  \n",
              "4  [(4, 4), (5, 1), (7, 1), (10, 2), (16, 5), (22...  "
            ]
          },
          "metadata": {
            "tags": []
          },
          "execution_count": 36
        }
      ]
    },
    {
      "metadata": {
        "id": "BtaBE7snSDMe",
        "colab_type": "text"
      },
      "cell_type": "markdown",
      "source": [
        "**Pregunta:** Explique a qué corresponde la columna `bow`\n",
        "\n",
        "**Respuesta:** Bag of Words  (BOW) es una forma de representar el documento, en términos de las palabras presentes en el diccionario, para poder usarlo en un modelo. Representa el conjunto de palabras presentes en el documento o abstract (aplicado ya todo el pre procesamiento explicado en las secciones anteriores), entonces, cada entrada del vector BoW contiene en su primera componente el índice en el diccionario de la palabra contenida en el abstract, y en su segunda coordenada almacena la cuenta total de cuántas veces está presente la palabara en el documento. En este modelo no interesa el orden de las palabras si no que sólo su ocurrencia. \n",
        "\n"
      ]
    },
    {
      "metadata": {
        "id": "f23GriULTHgV",
        "colab_type": "text"
      },
      "cell_type": "markdown",
      "source": [
        "## Tf-idf"
      ]
    },
    {
      "metadata": {
        "id": "C7ju5n3xTKtj",
        "colab_type": "code",
        "colab": {
          "base_uri": "https://localhost:8080/",
          "height": 280
        },
        "outputId": "23b171c1-f93f-45fe-a189-b998adccb8e3"
      },
      "cell_type": "code",
      "source": [
        "tfidf_model_file = 'resources/tfidf_model-stemm.p' if stemm else 'resources/tfidf_model.p'\n",
        "if os.path.isfile(tfidf_model_file):\n",
        "    tfidf_model = models.tfidfmodel.TfidfModel().load(tfidf_model_file)\n",
        "else:\n",
        "    tfidf_model = models.tfidfmodel.TfidfModel(corpus, dictionary=dictionary)\n",
        "    tfidf_model.save(tfidf_model_file)\n",
        "\n",
        "corpus_df['tf_idf'] = tfidf_model[corpus_df.bow.tolist()]\n",
        "corpus_df[:5]"
      ],
      "execution_count": 37,
      "outputs": [
        {
          "output_type": "execute_result",
          "data": {
            "text/html": [
              "<div>\n",
              "<style scoped>\n",
              "    .dataframe tbody tr th:only-of-type {\n",
              "        vertical-align: middle;\n",
              "    }\n",
              "\n",
              "    .dataframe tbody tr th {\n",
              "        vertical-align: top;\n",
              "    }\n",
              "\n",
              "    .dataframe thead th {\n",
              "        text-align: right;\n",
              "    }\n",
              "</style>\n",
              "<table border=\"1\" class=\"dataframe\">\n",
              "  <thead>\n",
              "    <tr style=\"text-align: right;\">\n",
              "      <th></th>\n",
              "      <th>id</th>\n",
              "      <th>title</th>\n",
              "      <th>abstract</th>\n",
              "      <th>bow</th>\n",
              "      <th>tf_idf</th>\n",
              "    </tr>\n",
              "  </thead>\n",
              "  <tbody>\n",
              "    <tr>\n",
              "      <th>0</th>\n",
              "      <td>100002</td>\n",
              "      <td>Nonlinear Shape Statistics in Mumford{Shah Bas...</td>\n",
              "      <td>We present a variational integration of nonlin...</td>\n",
              "      <td>[(0, 1), (1, 1), (3, 1), (4, 1), (5, 1), (6, 1...</td>\n",
              "      <td>[(0, 0.19689725999527163), (1, 0.0861613877917...</td>\n",
              "    </tr>\n",
              "    <tr>\n",
              "      <th>1</th>\n",
              "      <td>100007</td>\n",
              "      <td>On the Complexity of Equilibria</td>\n",
              "      <td>We prove complexity, approximability, and inap...</td>\n",
              "      <td>[(4, 5), (7, 2), (8, 1), (10, 1), (30, 3), (35...</td>\n",
              "      <td>[(4, 0.0033554011043417254), (7, 0.02333778550...</td>\n",
              "    </tr>\n",
              "    <tr>\n",
              "      <th>2</th>\n",
              "      <td>100008</td>\n",
              "      <td>On QoS-Aware Publish-Subscribe</td>\n",
              "      <td>This position paper addresses the issue of sup...</td>\n",
              "      <td>[(1, 1), (4, 6), (7, 1), (16, 1), (22, 1), (27...</td>\n",
              "      <td>[(1, 0.06276351152911328), (4, 0.0049492930133...</td>\n",
              "    </tr>\n",
              "    <tr>\n",
              "      <th>3</th>\n",
              "      <td>10001</td>\n",
              "      <td>Checking Mergeable Priority Queues</td>\n",
              "      <td>We present an efficient algorithm which can ch...</td>\n",
              "      <td>[(4, 7), (7, 2), (8, 1), (10, 1), (16, 1), (17...</td>\n",
              "      <td>[(4, 0.0022699486545179476), (7, 0.01127724975...</td>\n",
              "    </tr>\n",
              "    <tr>\n",
              "      <th>4</th>\n",
              "      <td>100012</td>\n",
              "      <td>Mobile Code Security by Java Bytecode Instrume...</td>\n",
              "      <td>Mobile code provides significant opportunities...</td>\n",
              "      <td>[(4, 4), (5, 1), (7, 1), (10, 2), (16, 5), (22...</td>\n",
              "      <td>[(4, 0.001715799318906219), (5, 0.031751265629...</td>\n",
              "    </tr>\n",
              "  </tbody>\n",
              "</table>\n",
              "</div>"
            ],
            "text/plain": [
              "       id                                              title  \\\n",
              "0  100002  Nonlinear Shape Statistics in Mumford{Shah Bas...   \n",
              "1  100007                    On the Complexity of Equilibria   \n",
              "2  100008                     On QoS-Aware Publish-Subscribe   \n",
              "3   10001                 Checking Mergeable Priority Queues   \n",
              "4  100012  Mobile Code Security by Java Bytecode Instrume...   \n",
              "\n",
              "                                            abstract  \\\n",
              "0  We present a variational integration of nonlin...   \n",
              "1  We prove complexity, approximability, and inap...   \n",
              "2  This position paper addresses the issue of sup...   \n",
              "3  We present an efficient algorithm which can ch...   \n",
              "4  Mobile code provides significant opportunities...   \n",
              "\n",
              "                                                 bow  \\\n",
              "0  [(0, 1), (1, 1), (3, 1), (4, 1), (5, 1), (6, 1...   \n",
              "1  [(4, 5), (7, 2), (8, 1), (10, 1), (30, 3), (35...   \n",
              "2  [(1, 1), (4, 6), (7, 1), (16, 1), (22, 1), (27...   \n",
              "3  [(4, 7), (7, 2), (8, 1), (10, 1), (16, 1), (17...   \n",
              "4  [(4, 4), (5, 1), (7, 1), (10, 2), (16, 5), (22...   \n",
              "\n",
              "                                              tf_idf  \n",
              "0  [(0, 0.19689725999527163), (1, 0.0861613877917...  \n",
              "1  [(4, 0.0033554011043417254), (7, 0.02333778550...  \n",
              "2  [(1, 0.06276351152911328), (4, 0.0049492930133...  \n",
              "3  [(4, 0.0022699486545179476), (7, 0.01127724975...  \n",
              "4  [(4, 0.001715799318906219), (5, 0.031751265629...  "
            ]
          },
          "metadata": {
            "tags": []
          },
          "execution_count": 37
        }
      ]
    },
    {
      "metadata": {
        "id": "O8F8BfFvTUz8",
        "colab_type": "text"
      },
      "cell_type": "markdown",
      "source": [
        "**Pregunta:** Explicar a qué corresponde la columna `tf_idf` y por qué es útil en el procesamiento de texto. Mencione sus 2 principales partes, mediante la explicación del puntaje.\n",
        "\n",
        "**Respuesta:** Se desea generar una puntuación para obtener la frecuencia de palabras para saber el contexto y poder determinar las palabras dominantes en el texto. Algunas palabras que no son de mucha utilidad van a aparecer con mucha frecuencia y se quiere evitar eso. TF-IDF  busca penalizar palabras que aparecen frecuentemente en los documentos, como \"the\" o \"and\"pero no aporta información relevante sobre el contexto del documento para la clasificacion.\n",
        "\n",
        "El enfoque TF-IDF calcula los siguientes puntajes:\n",
        "\n",
        "- TF (*term frecuency*): es una puntuación de la frecuencia de la palabra en el documento actual.\n",
        "- IDF (*inverse document frecuency*): es una puntuación de qué tan rara es la palabra en los documentos.\n",
        "\n",
        "Los puntajes son una ponderación donde no todas las palabras son igual de importantes o interesantes y tienen el efecto de resaltar palabras que son distintas (contienen información útil) en un documento dado. Es útil en el procesamiento de documentos porque se puede ponderar cuando una palabra frecuente es realmente un aporte para conocer el contexto ó es sólo una stopword (artículo, pronombre, etc.).\n"
      ]
    },
    {
      "metadata": {
        "id": "EuNk3cw3SblR",
        "colab_type": "text"
      },
      "cell_type": "markdown",
      "source": [
        "## Generar recomendaciones"
      ]
    },
    {
      "metadata": {
        "id": "vHexXEF-SdH2",
        "colab_type": "text"
      },
      "cell_type": "markdown",
      "source": [
        "En esta sección se implementan las funciones necesarias para poder generar recomendaciones dado lo que un usuario ha consumido. De manera artificial, se samplearán 3 documentos aleatorios que representarán al usuario objetivo (`sample`). Luego tendrás que generar diferentes recomendaciones y evaluar los resultados."
      ]
    },
    {
      "metadata": {
        "id": "iwM9JHgpAwwu",
        "colab_type": "code",
        "colab": {
          "base_uri": "https://localhost:8080/",
          "height": 288
        },
        "outputId": "582244f4-add5-4bba-a059-576147c26cef"
      },
      "cell_type": "code",
      "source": [
        "# Random user\n",
        "\n",
        "samples = corpus_df.sample(3)\n",
        "\n",
        "for n, (ix, paper) in enumerate(samples.iterrows()):\n",
        "  idx, title, abstract, bow, tf_idf = paper\n",
        "  print('%d) %s' % (n+1, title))\n",
        "  print('')\n",
        "  print(abstract)\n",
        "  print('\\n' )"
      ],
      "execution_count": 38,
      "outputs": [
        {
          "output_type": "stream",
          "text": [
            "1) From a Trickle to a Flood: Active Attacks on Several Mix Types\n",
            "\n",
            "The literature contains a variety of different mixes, some of which have been used in deployed anonymity systems. We explore their anonymity and message delay properties, and show how to mount active attacks against them by altering the traffic between the mixes.\n",
            "\n",
            "\n",
            "2) Reasoning about Infinite Computations\n",
            "\n",
            "We investigate extensions of temporal logic by connectives defined by finite automata on infinite words. We consider three different logics, corresponding to three different types of acceptance conditions (finite, looping and repeating) for the automata. It turns out, however, that these logics all have the same expressive power and that their decision problems are all PSPACE-complete. We also investigate connectives defined by alternating automata and show that they do not increase the expressive power of the logic or the complexity of the decision problem. 1 Introduction For many years, logics of programs have been tools for reasoning about the input/output behavior of programs. When dealing with concurrent or nonterminating processes (like operating systems) there is, however, a need to reason about infinite computations. Thus, instead of considering the first and last states of finite computations, we need to consider the infinite sequences of states that the program goes through...\n",
            "\n",
            "\n",
            "3) On Probabilistic Model Checking\n",
            "\n",
            "We give a probabilistic semantics to formulas of the modal mu-calculus, where models are probabilistic transition systems and meanings are functions from states to the unit interval. The meaning of a formula OE in a state q is thus the probability that OE holds in q. We relate the new semantics to the standard Boolean one over labeled transition systems. Combining hai or ¯x with [a] or x generally creates differences to the classical interpretation which allow one to verify liveness and fairness properties of probabilistic transition systems. The Sigma-algebra of our semantics is bicontinuous. We point out how our approach differs from the syntax and semantics of PML due to Larsen & Skou. We give a co-inductive definition of probabilistic bisimulation and show that its greatest fixed point is a probabilistic bisimulation; in fact, it is the union of all those in the sense of Larsen & Skou. Probabilistically bisimilar states yield the same probabilities in our semantics for all formul...\n",
            "\n",
            "\n"
          ],
          "name": "stdout"
        }
      ]
    },
    {
      "metadata": {
        "id": "IarDHEPrAwm_",
        "colab_type": "code",
        "colab": {}
      },
      "cell_type": "code",
      "source": [
        "# Recommendation functions\n",
        "\n",
        "N = len(dictionary)\n",
        "\n",
        "def to_sparse(matrix):\n",
        "    return csr_matrix([gensim.matutils.sparse2full(row, length=N) for row in matrix]) \n",
        "\n",
        "def make_recommendations(model, metric, neighbors):\n",
        "    M = len(corpus)\n",
        "\n",
        "    X = to_sparse(corpus_df[model].tolist())\n",
        "    document_index = NearestNeighbors(n_neighbors=(neighbors + 1), algorithm='brute', metric=metric).fit(X)\n",
        "    return document_index\n",
        "\n",
        "def print_recommendations(indexes, model):\n",
        "    for n, (ix, paper) in enumerate(samples.iterrows()):\n",
        "        dists, neighbors = indexes.kneighbors([gensim.matutils.sparse2full(paper[model],length=N)])\n",
        "        print(paper['title'])\n",
        "        print('')\n",
        "        print('Documentos cercanos: ')\n",
        "        i = 1\n",
        "        for neighbour in neighbors[0]:\n",
        "            if ix != neighbour:\n",
        "                line = str(i) + \". \" + corpus_df.iloc[neighbour]['title']\n",
        "                print(line)\n",
        "                i+=1\n",
        "        print('\\n')"
      ],
      "execution_count": 0,
      "outputs": []
    },
    {
      "metadata": {
        "id": "dPe8hn3ZTqYO",
        "colab_type": "text"
      },
      "cell_type": "markdown",
      "source": [
        "A continuación deberá utilizar las funciones implementadas anteriormente para generar nuevas recomendaciones variando los parámetros del modelo. Agregue nuevas celdas para cada implementación y/o pregunta.\n"
      ]
    },
    {
      "metadata": {
        "id": "EXwYjORwTr17",
        "colab_type": "text"
      },
      "cell_type": "markdown",
      "source": [
        "** Pregunta:** Ejecute el modelo utilizando como representación tf-idf y una métrica de distancia euclideana. Modifique el parámetro nearest_neighbors a [5, 10, 20]. ¿qué efecto tiene el modelo en las recomendaciones observadas?\n",
        "\n",
        "**Respuesta:**Las recomendaciones no cambian solo se van incorporando nuevas recomendaciones dependiendo si son 5, 10 ó 20 vecinos cercanos a entregar."
      ]
    },
    {
      "metadata": {
        "id": "CRNEpJy7T6OQ",
        "colab_type": "text"
      },
      "cell_type": "markdown",
      "source": [
        "**Pregunta:** Eligiendo un valor fijo para *nearest neighbors* y utilizando representación tf-idf, ejecute el modelo con métrica de distancia *cosine*.¿Qué efecto tiene la métrica de distancia en las recomendaciones observadas?\n",
        "\n",
        "**Respuesta:** La métrica *cosine* no genera ningún cambio en las recomendaciones con respecto a la distancia euclideana, al pedir los 10 vecinos cercanos estos son los mismos para las dos métricas.\n"
      ]
    },
    {
      "metadata": {
        "id": "QfHLV4NrA0-U",
        "colab_type": "code",
        "colab": {
          "base_uri": "https://localhost:8080/",
          "height": 518
        },
        "outputId": "2f0c3495-738c-4147-ea78-e00715287cf5"
      },
      "cell_type": "code",
      "source": [
        "# Recommendation example\n",
        " \n",
        "doc_idx = make_recommendations('tf_idf', 'euclidean', 5)\n",
        "print_recommendations(doc_idx, 'tf_idf')"
      ],
      "execution_count": 41,
      "outputs": [
        {
          "output_type": "stream",
          "text": [
            "From a Trickle to a Flood: Active Attacks on Several Mix Types\n",
            "\n",
            "Documentos cercanos: \n",
            "1. Comparison Between Two Practical Mix Designs\n",
            "2. Mix-networks with Restricted Routes\n",
            "3. Wireless Authentication Protocol Preserving User Anonymity\n",
            "4. Gap { Practical Anonymous Networking\n",
            "5. Probabilistic Analysis of Anonymity\n",
            "\n",
            "\n",
            "Reasoning about Infinite Computations\n",
            "\n",
            "Documentos cercanos: \n",
            "1. Stability and Sequentiality in Dataflow Networks\n",
            "2. An Automata-Theoretic Approach to Linear Temporal Logic\n",
            "3. Enhanced Propositional Dynamic Logic for Reasoning about Concurrent Actions (extended abstract)\n",
            "4. Real-time Logics: Complexity and Expressiveness\n",
            "5. Locally Linear Time Temporal Logic\n",
            "\n",
            "\n",
            "On Probabilistic Model Checking\n",
            "\n",
            "Documentos cercanos: \n",
            "1. Algebraic Reasoning for Probabilistic Concurrent Systems\n",
            "2. A Testing Scenario for Probabilistic Automata\n",
            "3. Probabilistic Temporal Logics via the Modal Mu-Calculus\n",
            "4. A Probabilistic Relational Algebra for the Integration of Information Retrieval and Database Systems\n",
            "5. A Fully Abstract Metric-Space Denotational Semantics for Reactive Probabilistic Processes\n",
            "\n",
            "\n"
          ],
          "name": "stdout"
        }
      ]
    },
    {
      "metadata": {
        "id": "hCuhOpg3eIe6",
        "colab_type": "code",
        "colab": {
          "base_uri": "https://localhost:8080/",
          "height": 769
        },
        "outputId": "a987cac8-4f88-40b4-c9c2-715a76976fb0"
      },
      "cell_type": "code",
      "source": [
        "#Recomendacion tf-idf, distancia euclideana, nearest_neighbors 10\n",
        "doc_idx1 = make_recommendations('tf_idf', 'euclidean', 10)\n",
        "print_recommendations(doc_idx1, 'tf_idf')"
      ],
      "execution_count": 42,
      "outputs": [
        {
          "output_type": "stream",
          "text": [
            "From a Trickle to a Flood: Active Attacks on Several Mix Types\n",
            "\n",
            "Documentos cercanos: \n",
            "1. Comparison Between Two Practical Mix Designs\n",
            "2. Mix-networks with Restricted Routes\n",
            "3. Wireless Authentication Protocol Preserving User Anonymity\n",
            "4. Gap { Practical Anonymous Networking\n",
            "5. Probabilistic Analysis of Anonymity\n",
            "6. On the Economics of Anonymity\n",
            "7. Synchronous Batching: From Cascades to Free Routes\n",
            "8. Generalising Mixes\n",
            "9. Anonymizing Censorship Resistant Systems\n",
            "10. Defending Anonymous Communications Against Passive Logging Attacks\n",
            "\n",
            "\n",
            "Reasoning about Infinite Computations\n",
            "\n",
            "Documentos cercanos: \n",
            "1. Stability and Sequentiality in Dataflow Networks\n",
            "2. An Automata-Theoretic Approach to Linear Temporal Logic\n",
            "3. Enhanced Propositional Dynamic Logic for Reasoning about Concurrent Actions (extended abstract)\n",
            "4. Real-time Logics: Complexity and Expressiveness\n",
            "5. Locally Linear Time Temporal Logic\n",
            "6. Evolving Deterministic Finite Automata Using Cellular Encoding\n",
            "7. State Clock Logic: a Decidable Real-Time Logic\n",
            "8. Hybrid Automata: An Algorithmic Approach to the Specification and Verification of Hybrid Systems\n",
            "9. An Integration of Model Checking with Automated Proof Checking\n",
            "10. Temporal Logic in Information Systems\n",
            "\n",
            "\n",
            "On Probabilistic Model Checking\n",
            "\n",
            "Documentos cercanos: \n",
            "1. Algebraic Reasoning for Probabilistic Concurrent Systems\n",
            "2. A Testing Scenario for Probabilistic Automata\n",
            "3. Probabilistic Temporal Logics via the Modal Mu-Calculus\n",
            "4. A Probabilistic Relational Algebra for the Integration of Information Retrieval and Database Systems\n",
            "5. A Fully Abstract Metric-Space Denotational Semantics for Reactive Probabilistic Processes\n",
            "6. Sooner is Safer than Later\n",
            "7. A Presheaf Semantics of Value-Passing Processes\n",
            "8. Symbolic Model Checking: 10 20 States and Beyond\n",
            "9. What Do Message Sequence Charts Mean?\n",
            "10. Symbolic Bisimulation Minimisation\n",
            "\n",
            "\n"
          ],
          "name": "stdout"
        }
      ]
    },
    {
      "metadata": {
        "id": "LxF_s__VeIq5",
        "colab_type": "code",
        "colab": {
          "base_uri": "https://localhost:8080/",
          "height": 1271
        },
        "outputId": "8087e2d8-56dc-40d8-e169-a2166fd2f3d7"
      },
      "cell_type": "code",
      "source": [
        "#Recomendacion tf-idf, distancia euclideana, nearest_neighbors 20\n",
        "doc_idx2 = make_recommendations('tf_idf', 'euclidean', 20)\n",
        "print_recommendations(doc_idx2, 'tf_idf')"
      ],
      "execution_count": 43,
      "outputs": [
        {
          "output_type": "stream",
          "text": [
            "From a Trickle to a Flood: Active Attacks on Several Mix Types\n",
            "\n",
            "Documentos cercanos: \n",
            "1. Comparison Between Two Practical Mix Designs\n",
            "2. Mix-networks with Restricted Routes\n",
            "3. Wireless Authentication Protocol Preserving User Anonymity\n",
            "4. Gap { Practical Anonymous Networking\n",
            "5. Probabilistic Analysis of Anonymity\n",
            "6. On the Economics of Anonymity\n",
            "7. Synchronous Batching: From Cascades to Free Routes\n",
            "8. Generalising Mixes\n",
            "9. Anonymizing Censorship Resistant Systems\n",
            "10. Defending Anonymous Communications Against Passive Logging Attacks\n",
            "11. The Eternity Service\n",
            "12. Remote Timing Attacks are Practical\n",
            "13. Provably Secure Public-Key Encryption for Length-Preserving Chaumian Mixes\n",
            "14. Secure Routing in Wireless Sensor Networks: Attacks and Countermeasures\n",
            "15. Attacking DDoS at the Source\n",
            "16. Steady-State Analysis of the Rate-Based Congestion Control Mechanism for ABR Services in ATM Networks\n",
            "17. Secure and Resilient Peer-to-Peer E-Mail: Design and Implementation\n",
            "18. Fair Off-Line e-Cash made easy\n",
            "19. A Metadata Model for Semantics-Based Peer-To-Peer Systems\n",
            "20. A Structured Specification of an Active Database System\n",
            "\n",
            "\n",
            "Reasoning about Infinite Computations\n",
            "\n",
            "Documentos cercanos: \n",
            "1. Stability and Sequentiality in Dataflow Networks\n",
            "2. An Automata-Theoretic Approach to Linear Temporal Logic\n",
            "3. Enhanced Propositional Dynamic Logic for Reasoning about Concurrent Actions (extended abstract)\n",
            "4. Real-time Logics: Complexity and Expressiveness\n",
            "5. Locally Linear Time Temporal Logic\n",
            "6. Evolving Deterministic Finite Automata Using Cellular Encoding\n",
            "7. State Clock Logic: a Decidable Real-Time Logic\n",
            "8. Hybrid Automata: An Algorithmic Approach to the Specification and Verification of Hybrid Systems\n",
            "9. An Integration of Model Checking with Automated Proof Checking\n",
            "10. Temporal Logic in Information Systems\n",
            "11. History-Dependent Automata\n",
            "12. Semantical Foundations of Spatial Logics\n",
            "13. PDL-based framework for reasoning about actions\n",
            "14. Learning the CLASSIC Description Logic: Theoretical and Experimental Results\n",
            "15. On the Representation of Infinite Temporal Data and Queries\n",
            "16. Authentication in the Taos Operating System\n",
            "17. Minimizable Timed Automata\n",
            "18. Mechanised Reasoning and Model Generation for Extended Modal Logics\n",
            "19. Verification Tools for Finite-State Concurrent Systems\n",
            "20. A Process Algebraic View of I/O Automata\n",
            "\n",
            "\n",
            "On Probabilistic Model Checking\n",
            "\n",
            "Documentos cercanos: \n",
            "1. Algebraic Reasoning for Probabilistic Concurrent Systems\n",
            "2. A Testing Scenario for Probabilistic Automata\n",
            "3. Probabilistic Temporal Logics via the Modal Mu-Calculus\n",
            "4. A Probabilistic Relational Algebra for the Integration of Information Retrieval and Database Systems\n",
            "5. A Fully Abstract Metric-Space Denotational Semantics for Reactive Probabilistic Processes\n",
            "6. Sooner is Safer than Later\n",
            "7. A Presheaf Semantics of Value-Passing Processes\n",
            "8. Symbolic Model Checking: 10 20 States and Beyond\n",
            "9. What Do Message Sequence Charts Mean?\n",
            "10. Symbolic Bisimulation Minimisation\n",
            "11. A Generalized Semantics for Constraint Logic Programs\n",
            "12. Compositional Testing Preorders for Probabilistic Processes\n",
            "13. Requirements-Level Semantics For UML Statecharts\n",
            "14. A Probabilistically Correct Leader Election Protocol for Large Groups\n",
            "15. Answering Queries from Context-Sensitive Probabilistic Knowledge Bases\n",
            "16. Probabilistic Reasoning in Terminological Logics\n",
            "17. On ACTL Formulas Having Deterministic Counterexamples\n",
            "18. Efficient Model Checking by Automated Ordering of Transition Relation Partitions\n",
            "19. Bisimulation for Labelled Markov Processes\n",
            "20. A Metamodel for Object-Oriented Statecharts\n",
            "\n",
            "\n"
          ],
          "name": "stdout"
        }
      ]
    },
    {
      "metadata": {
        "id": "olVsAwbZeI7k",
        "colab_type": "code",
        "colab": {
          "base_uri": "https://localhost:8080/",
          "height": 769
        },
        "outputId": "ed21eaf9-a4cf-49db-95c2-f632d4deb042"
      },
      "cell_type": "code",
      "source": [
        "#Recomendacion tf-idf, distancia cosine, nearest_neighbors 10\n",
        "doc_idx1 = make_recommendations('tf_idf', 'cosine', 10)\n",
        "print_recommendations(doc_idx1, 'tf_idf')"
      ],
      "execution_count": 44,
      "outputs": [
        {
          "output_type": "stream",
          "text": [
            "From a Trickle to a Flood: Active Attacks on Several Mix Types\n",
            "\n",
            "Documentos cercanos: \n",
            "1. Comparison Between Two Practical Mix Designs\n",
            "2. Mix-networks with Restricted Routes\n",
            "3. Wireless Authentication Protocol Preserving User Anonymity\n",
            "4. Gap { Practical Anonymous Networking\n",
            "5. Probabilistic Analysis of Anonymity\n",
            "6. On the Economics of Anonymity\n",
            "7. Synchronous Batching: From Cascades to Free Routes\n",
            "8. Generalising Mixes\n",
            "9. Anonymizing Censorship Resistant Systems\n",
            "10. Defending Anonymous Communications Against Passive Logging Attacks\n",
            "\n",
            "\n",
            "Reasoning about Infinite Computations\n",
            "\n",
            "Documentos cercanos: \n",
            "1. Stability and Sequentiality in Dataflow Networks\n",
            "2. An Automata-Theoretic Approach to Linear Temporal Logic\n",
            "3. Enhanced Propositional Dynamic Logic for Reasoning about Concurrent Actions (extended abstract)\n",
            "4. Real-time Logics: Complexity and Expressiveness\n",
            "5. Locally Linear Time Temporal Logic\n",
            "6. Evolving Deterministic Finite Automata Using Cellular Encoding\n",
            "7. State Clock Logic: a Decidable Real-Time Logic\n",
            "8. Hybrid Automata: An Algorithmic Approach to the Specification and Verification of Hybrid Systems\n",
            "9. An Integration of Model Checking with Automated Proof Checking\n",
            "10. Temporal Logic in Information Systems\n",
            "\n",
            "\n",
            "On Probabilistic Model Checking\n",
            "\n",
            "Documentos cercanos: \n",
            "1. Algebraic Reasoning for Probabilistic Concurrent Systems\n",
            "2. A Testing Scenario for Probabilistic Automata\n",
            "3. Probabilistic Temporal Logics via the Modal Mu-Calculus\n",
            "4. A Probabilistic Relational Algebra for the Integration of Information Retrieval and Database Systems\n",
            "5. A Fully Abstract Metric-Space Denotational Semantics for Reactive Probabilistic Processes\n",
            "6. Sooner is Safer than Later\n",
            "7. A Presheaf Semantics of Value-Passing Processes\n",
            "8. Symbolic Model Checking: 10 20 States and Beyond\n",
            "9. What Do Message Sequence Charts Mean?\n",
            "10. Symbolic Bisimulation Minimisation\n",
            "\n",
            "\n"
          ],
          "name": "stdout"
        }
      ]
    }
  ]
}